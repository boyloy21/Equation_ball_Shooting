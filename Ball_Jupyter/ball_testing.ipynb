{
 "cells": [
  {
   "cell_type": "markdown",
   "metadata": {},
   "source": [
    "# Formular:\n",
    "1. $X = X_o + V_o*cos(\\theta)*t$\n",
    "2. $Y = Y_o + V_o*sin(\\theta)*t$\n",
    "3. $V = V_o + a_o.t$\n",
    "4. $F_D = CdA\\frac{\\rho V^2}{2}$ \n",
    "5. $a = \\frac{F_{net}}{m}$ \n",
    "6. $F_{net} = mg - \\frac{1}{2}\\rho*A*Cd*V^2$\n",
    "7. Update the Monetum: $p_2 = p_1 + F_{net}\\Delta t$\n",
    "8. Update the position: $r_2 = r_1 + \\frac{p_2}{m}\\Delta t$\n",
    "9. Update time: $t_2 = t_1 + \\Delta t$\n",
    "10. $X = \\frac{mu_x}{b}(1-e^{-\\frac{bt}{m}}$\n",
    "11. $Y = \\frac{m}{b}(u_y + \\frac{mg}{b})(1-e^{-bt/m})-\\frac{mgt}{b}=\\frac{bu_y+mg}{bu_x}x+\\frac{m^2g}{b^2}ln(1-\\frac{bx}{mu_x})$\n",
    "\n",
    "# Parameter:\n",
    "1. Cd(sphere)=(0.7->0.5)\n",
    "2. $\\rho = 1.29kg/m^3$\n",
    "3. A = $\\pi r^2$"
   ]
  },
  {
   "cell_type": "code",
   "execution_count": null,
   "metadata": {},
   "outputs": [],
   "source": []
  }
 ],
 "metadata": {
  "kernelspec": {
   "display_name": "Python 3",
   "language": "python",
   "name": "python3"
  },
  "language_info": {
   "codemirror_mode": {
    "name": "ipython",
    "version": 3
   },
   "file_extension": ".py",
   "mimetype": "text/x-python",
   "name": "python",
   "nbconvert_exporter": "python",
   "pygments_lexer": "ipython3",
   "version": "3.8.10"
  }
 },
 "nbformat": 4,
 "nbformat_minor": 4
}
