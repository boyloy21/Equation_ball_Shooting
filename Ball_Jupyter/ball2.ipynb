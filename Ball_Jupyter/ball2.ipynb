{
 "cells": [
  {
   "cell_type": "code",
   "execution_count": 4,
   "metadata": {},
   "outputs": [
    {
     "name": "stdout",
     "output_type": "stream",
     "text": [
      "80 60.0\n"
     ]
    },
    {
     "data": {
      "text/plain": [
       "Text(0.5, 0, 'x (m)')"
      ]
     },
     "execution_count": 4,
     "metadata": {},
     "output_type": "execute_result"
    },
    {
     "data": {
      "image/png": "[encoded data removed]",
      "text/plain": [
       "<Figure size 432x288 with 1 Axes>"
      ]
     },
     "metadata": {
      "needs_background": "light"
     },
     "output_type": "display_data"
    }
   ],
   "source": [
    "import numpy as np\n",
    "import matplotlib.pyplot as plt\n",
    "# % matplotlib inline\n",
    "\n",
    "# Model parameters\n",
    "M = 1.0          # Mass of projectile in kg\n",
    "g = 9.8          # Acceleration due to gravity (m/s^2)\n",
    "V = 80           # Initial velocity in m/s\n",
    "ang = 60.0       # Angle of initial velocity in degrees\n",
    "Cd = 0.005       # Drag coefficient\n",
    "dt = 0.5         # time step in s\n",
    "\n",
    "# You can check the variables by printing them out\n",
    "print (V, ang)\n",
    "\n",
    "# Set up the lists to store variables\n",
    "# Initialize the velocity and position at t=0\n",
    "t = [0]                         # list to keep track of time\n",
    "vx = [V*np.cos(ang/180*np.pi)]  # list for velocity x and y components\n",
    "vy = [V*np.sin(ang/180*np.pi)]\n",
    "x = [0]                         # list for x and y position\n",
    "y = [0]\n",
    "\n",
    "# Drag force\n",
    "drag=Cd*V**2                      # drag force \n",
    "\n",
    "# Acceleration components\n",
    "ax = [-(drag*np.cos(ang/180*np.pi))/M ]          \n",
    "ay = [-g-(drag*np.sin(ang/180*np.pi)/M) ]\n",
    "\n",
    "## Leave this out for students to try\n",
    "# We can choose to have better control of the time-step here\n",
    "dt = 0.2\n",
    "\n",
    "# Use Euler method to update variables\n",
    "counter = 0\n",
    "while (y[counter] >= 0):                   # Check that the last value of y is >= 0\n",
    "    t.append(t[counter]+dt)                # increment by dt and add to the list of time \n",
    "    \n",
    "    \n",
    "    \n",
    "    # Update velocity\n",
    "    vx.append(vx[counter]+dt*ax[counter])  # Update the velocity\n",
    "    vy.append(vy[counter]+dt*ay[counter])\n",
    "\n",
    "    # Update position\n",
    "    x.append(x[counter]+dt*vx[counter])    \n",
    "    y.append(y[counter]+dt*vy[counter])    \n",
    "\n",
    "    # With the new velocity calculate the drag force and update acceleration\n",
    "    vel = np.sqrt(vx[counter+1]**2 + vy[counter+1]**2)   # magnitude of velocity\n",
    "    drag = Cd*vel**2                                   # drag force \n",
    "    ax.append(-(drag*np.cos(ang/180*np.pi))/M)     \n",
    "    ay.append(-g-(drag*np.sin(ang/180*np.pi)/M))\n",
    "    \n",
    "    # Increment the counter by 1\n",
    "    counter = counter +1\n",
    "\n",
    "# Let's plot the trajectory\n",
    "plt.plot(x,y,'ro')\n",
    "plt.ylabel(\"y (m)\")\n",
    "plt.xlabel(\"x (m)\")\n",
    "   \n",
    "# The last value of x should give the range of the projectile approximately.\n",
    "\n",
    "# print \"Range of projectile is {:3.1f} m\".format(x[counter])"
   ]
  },
  {
   "cell_type": "code",
   "execution_count": null,
   "metadata": {},
   "outputs": [],
   "source": []
  }
 ],
 "metadata": {
  "kernelspec": {
   "display_name": "Python 3",
   "language": "python",
   "name": "python3"
  },
  "language_info": {
   "codemirror_mode": {
    "name": "ipython",
    "version": 3
   },
   "file_extension": ".py",
   "mimetype": "text/x-python",
   "name": "python",
   "nbconvert_exporter": "python",
   "pygments_lexer": "ipython3",
   "version": "3.7.6"
  }
 },
 "nbformat": 4,
 "nbformat_minor": 4
}
