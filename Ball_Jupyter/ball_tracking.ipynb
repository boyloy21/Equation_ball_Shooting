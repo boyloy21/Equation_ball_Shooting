{
 "cells": [
  {
   "cell_type": "code",
   "execution_count": 2,
   "id": "c9590c7e",
   "metadata": {},
   "outputs": [
    {
     "name": "stdout",
     "output_type": "stream",
     "text": [
      "600.0\n",
      "2.0325810761994547\n",
      "0.6302507710695912 0.3584571000451818\n"
     ]
    },
    {
     "data": {
      "image/png": "[encoded data removed]",
      "text/plain": [
       "<Figure size 432x288 with 1 Axes>"
      ]
     },
     "metadata": {
      "needs_background": "light"
     },
     "output_type": "display_data"
    },
    {
     "name": "stdout",
     "output_type": "stream",
     "text": [
      "Time of flight : 0.45 seconds\n"
     ]
    }
   ],
   "source": [
    "import numpy as np\n",
    "import matplotlib.pyplot as plt\n",
    "\n",
    "g = 9.81  # Acceleration due to gravity (m/s^2)\n",
    "v0 =  3  # Initial velocity (m/s)\n",
    "\n",
    "launch_angle = 15  \n",
    "initial_height = 0.6\n",
    "mass = 0.35    # mass of projecile\n",
    "r = 0.085\n",
    "rho = 1.27\n",
    "cd = 0.47\n",
    "A = 2*np.pi*r**2\n",
    "k = (1/2)*rho*A*cd  # Air resistance constant (tune this value as needed, depending on the projectile and environment)\n",
    "theta = np.radians(launch_angle)\n",
    "H = ((v0**2)*(np.sin(theta))**2)/(g*(2+k*(v0**2)*np.sin(theta))) + initial_height\n",
    "T = 2*np.sqrt(2*H/g)\n",
    "Va = (v0*np.cos(theta))/(np.sqrt(1+k*(v0**2)*(np.sin(theta)+((np.cos(theta))**2)*np.log10(np.tan((theta/2) + (np.pi/4))))))\n",
    "D = Va*T\n",
    "print(v0/0.005)\n",
    "print(D)\n",
    "print(H,T/2)\n",
    "\n",
    "def calculating_Acclel(t, state, k, m):\n",
    "    x, y, vx, vy = state\n",
    "    v = np.sqrt(vx**2 + vy**2)\n",
    "    F_air_x = -k * v * vx\n",
    "    F_air_y = -k * v * vy\n",
    "    ax = F_air_x / m\n",
    "    ay = (F_air_y - m * g) / m\n",
    "    return [vx, vy, ax, ay]\n",
    "\n",
    "def runge_kutta_step(t, state, dt, k, m):\n",
    "    k1 = calculating_Acclel(t, state, k, m)\n",
    "    k2 = calculating_Acclel(t + 0.5*dt, [s + 0.5*dt*k for s, k in zip(state, k1)], k, m)\n",
    "    k3 = calculating_Acclel(t + 0.5*dt, [s + 0.5*dt*k for s, k in zip(state, k2)], k, m)\n",
    "    k4 = calculating_Acclel(t + dt, [s + dt*k for s, k in zip(state, k3)], k, m)\n",
    "  \n",
    "    return [s + dt/6 * (k1_i + 2*k2_i + 2*k3_i + k4_i) for s, k1_i, k2_i, k3_i, k4_i in zip(state, k1, k2, k3, k4)]\n",
    "\n",
    "def projectile_motion_with_air_resistance(v0, theta, h0, k, m):\n",
    "    if k==0 and theta==90:\n",
    "        vx0=0\n",
    "        vy0=v0\n",
    "    else:\n",
    "        theta = np.radians(theta)\n",
    "        vx0 = v0 * np.cos(theta)\n",
    "        vy0 = v0 * np.sin(theta)\n",
    "    state = [0, h0, vx0, vy0]\n",
    "    dt = 0.01\n",
    "    times = [0]\n",
    "    x_values = [0]\n",
    "    y_values = [h0]\n",
    "    \n",
    "    while state[1] >= 0:\n",
    "        t = times[-1]\n",
    "        state = runge_kutta_step(t, state, dt, k, m)\n",
    "        times.append(t + dt)\n",
    "        x_values.append(state[0])\n",
    "        y_values.append(state[1])\n",
    "    \n",
    "    time_of_flight = times[-1]\n",
    "    \n",
    "    return time_of_flight, times, x_values, y_values\n",
    "\n",
    "\n",
    "time_of_flight, times, x_values, y_values = \\\n",
    "projectile_motion_with_air_resistance(v0, launch_angle,initial_height, k, mass)\n",
    "\n",
    "plt.plot(x_values, y_values)\n",
    "plt.xlabel('Horizontal Distance (m)')\n",
    "plt.ylabel('Vertical Distance (m)')\n",
    "plt.title('Projectile Motion with Air Resistance')\n",
    "plt.ylim(0,max(y_values)+7)\n",
    "plt.plot([0,0],[0,initial_height],'k',linewidth=3)\n",
    "plt.text(0.1,initial_height/2, \"%g m\" %(initial_height), fontsize=12, color='red')\n",
    "plt.grid(True)\n",
    "plt.show()\n",
    "\n",
    "print(f'Time of flight : {time_of_flight:.2f} seconds')\n"
   ]
  },
  {
   "cell_type": "markdown",
   "id": "6db51416",
   "metadata": {},
   "source": [
    "### How to Take paramter to create equation."
   ]
  },
  {
   "cell_type": "code",
   "execution_count": 3,
   "id": "6265bd06",
   "metadata": {},
   "outputs": [
    {
     "name": "stdout",
     "output_type": "stream",
     "text": [
      "[0.0, 0.0, 0.0, 0.21217150225719608, 0.42031963471427625, 0.626259608545874, 0.8314730534138226, 1.0366602645565655, 1.241650197239565, 1.4455819127941703, 1.6471955271066774, 1.8451054848041168, 2.0379980003376366, 2.2247462547540624, 2.404460673629642, 2.5764962812851366, 2.7404354293435103, 2.8960586131653647, 3.0433112862933274, 3.182271175350392, 3.313118410991906, 3.4361094735862605, 3.5515551983468496, 3.6598026765360325, 3.761220687296642, 3.856188212624112, 3.9450855741194717, 4.028287753408279, 4.1061594999095075, 4.179051878947928, 4.247299963559779, 4.311221421108493, 4.371115789125672, 4.427264272833429, 4.479929929460139, 4.529358131990387, 4.575777227854472, 4.619399326816314]\n",
      "[0.35, 0.35, 0.35460556254536185, 0.36831050481134775, 0.3907863010795737, 0.4215070346537349, 0.4597793702829492, 0.5047800156044333, 0.5555970755653017, 0.6112717256733506, 0.6708370989401973, 0.7333520503330941, 0.7979283594324282, 0.8637508013754405, 0.9300902460950987, 0.9963104772146013, 1.0618697434044155, 1.1263181896540728, 1.1892923057191571, 1.2505074213307479, 1.3097491160316204, 1.3668642302813803, 1.421751987957351, 1.4743555832282293, 1.5246544540273819, 1.5726573616295543, 1.6183963193765325, 1.6619213598466054, 1.703296094493604, 1.7425939988141956, 1.7798953456986273, 1.815284706655262, 1.8488489425921646, 1.8806756109035638, 1.9108517223677484, 1.939462788849648, 1.9665921103686426, 1.992320257330869]\n"
     ]
    }
   ],
   "source": [
    "Vo = [0.0, 0.5, 1.0, 1.5, 2.0, 2.5, 3.0, 3.5, 4.0, 4.5, 5.0, 5.5, 6.0, 6.5, 7.0, 7.5, 8.0, 8.5, 9.0, 9.5, 10.0, 10.5, 11.0, 11.5, 12.0, 12.5, 13.0, 13.5, 14.0, 14.5, 15.0, 15.5, 16.0, 16.5, 17.0, 17.5, 18.0]\n",
    "g = 9.81  # Acceleration due to gravity (m/s^2)\n",
    "launch_angle = 37 # Angle shooterr\n",
    "initial_height = 0.35 # Height start\n",
    "mass = 0.2    # mass of projecile\n",
    "r = 0.085     # radius of ball\n",
    "rho = 1.27  # air identity\n",
    "cd = 0.47  # coeficient force\n",
    "A = 4*np.pi*(r**2) # suface of sphrere ball\n",
    "k = (1/2)*rho*A*cd  # gain drage force\n",
    "theta = np.radians(launch_angle) # convert degree to radians \n",
    "H = [(((Vo[0])**2)*(np.sin(theta)**2))/(g*(2+k*((Vo[0])**2)*np.sin(theta))) + initial_height]\n",
    " # Calculate from ground to Max H\n",
    "h = [H[0] - initial_height]\n",
    "T = [2*np.sqrt(2*H[0]/g)]  #  time to end ball\n",
    "Va = [(Vo[0]*np.cos(theta))/(np.sqrt(1+k*(Vo[0]**2)*(np.sin(theta)+((np.cos(theta))**2)*(2.303*np.log(np.tan((theta/2) + (np.pi/4)))))))]\n",
    "D = [Va[0]*T[0]]  # Distance \n",
    "# print(len(Vo))\n",
    "for i in range(37): \n",
    "    H.append((((Vo[i])**2)*(np.sin(theta)**2))/(g*(2+k*((Vo[i])**2)*np.sin(theta))) + initial_height)\n",
    "    h.append(H[i] - initial_height)\n",
    "    T.append(2*np.sqrt(2*H[i]/g))\n",
    "    Va.append((Vo[i]*np.cos(theta))/(np.sqrt(1+k*(Vo[i]**2)*(np.sin(theta)+((np.cos(theta))**2)*(2.303*np.log(np.tan((theta/2) + (np.pi/4))))))))\n",
    "    D.append(Va[i]*T[i])\n",
    "    \n",
    "print(D)\n",
    "print(H)\n",
    "# print(Vo/0.005)\n",
    "# print(D)\n",
    "# print(H,h)"
   ]
  },
  {
   "cell_type": "code",
   "execution_count": null,
   "id": "93226dcc",
   "metadata": {},
   "outputs": [],
   "source": []
  },
  {
   "cell_type": "code",
   "execution_count": null,
   "id": "9c0974e6",
   "metadata": {},
   "outputs": [],
   "source": []
  }
 ],
 "metadata": {
  "kernelspec": {
   "display_name": "Python 3",
   "language": "python",
   "name": "python3"
  },
  "language_info": {
   "codemirror_mode": {
    "name": "ipython",
    "version": 3
   },
   "file_extension": ".py",
   "mimetype": "text/x-python",
   "name": "python",
   "nbconvert_exporter": "python",
   "pygments_lexer": "ipython3",
   "version": "3.8.10"
  }
 },
 "nbformat": 4,
 "nbformat_minor": 5
}
